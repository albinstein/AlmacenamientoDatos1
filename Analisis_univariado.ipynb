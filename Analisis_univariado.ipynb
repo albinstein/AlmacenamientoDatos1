{
 "cells": [
  {
   "cell_type": "markdown",
   "metadata": {},
   "source": [
    "TALLER 2. ANALISIS UNIVARIADO PARA PROYECTO PREDICCION DE PRECIO DE CIERRE DE BTC VS USDT"
   ]
  },
  {
   "cell_type": "markdown",
   "metadata": {},
   "source": [
    "Estudiante: Albin Rivera Paja"
   ]
  },
  {
   "cell_type": "markdown",
   "metadata": {},
   "source": [
    "1. SELECCION Y DESCRIPCION DE LA COLUMNA SELECCIONADA. "
   ]
  },
  {
   "cell_type": "markdown",
   "metadata": {},
   "source": [
    "La variable \"close\" es la variable seleccionada para llevar a cabo el analisis univariado, debido a que se usa como identificador de tendencia(objetivo de este proyecto). Dicha variable guarda la ultima opinion del mercado sobre el valor del activo para un periodo determinado, en este caso de 4 horas, ademas de definir patrones historicos del mercado. Tambien sirve como base para indicadores tecnicos como medias moviles exponenciales, medias moviles simples, RSI, Fuerza de momentum entre otras, que de igual forma sirven tambien para proyectar movimientos futuros."
   ]
  },
  {
   "cell_type": "markdown",
   "metadata": {},
   "source": [
    "1.1. EXPLORACION DE DATOS"
   ]
  },
  {
   "cell_type": "markdown",
   "metadata": {},
   "source": [
    "Lo primero que se realiza es la carga de librerias y la base de datos:"
   ]
  },
  {
   "cell_type": "code",
   "execution_count": 1,
   "metadata": {},
   "outputs": [],
   "source": [
    "#Carga de librerias\n",
    "import pandas as pd\n",
    "import matplotlib.pyplot as plt\n",
    "import seaborn as sns\n",
    "from statsmodels.tsa.arima.model import ARIMA\n",
    "from sklearn.metrics import mean_squared_error\n",
    "import numpy as np"
   ]
  },
  {
   "cell_type": "code",
   "execution_count": 2,
   "metadata": {},
   "outputs": [
    {
     "data": {
      "text/html": [
       "<div>\n",
       "<style scoped>\n",
       "    .dataframe tbody tr th:only-of-type {\n",
       "        vertical-align: middle;\n",
       "    }\n",
       "\n",
       "    .dataframe tbody tr th {\n",
       "        vertical-align: top;\n",
       "    }\n",
       "\n",
       "    .dataframe thead th {\n",
       "        text-align: right;\n",
       "    }\n",
       "</style>\n",
       "<table border=\"1\" class=\"dataframe\">\n",
       "  <thead>\n",
       "    <tr style=\"text-align: right;\">\n",
       "      <th></th>\n",
       "      <th>_id</th>\n",
       "      <th>timestamp</th>\n",
       "      <th>open</th>\n",
       "      <th>high</th>\n",
       "      <th>low</th>\n",
       "      <th>close</th>\n",
       "      <th>volume</th>\n",
       "    </tr>\n",
       "  </thead>\n",
       "  <tbody>\n",
       "    <tr>\n",
       "      <th>0</th>\n",
       "      <td>66c11d3ad200ba7478e85a1f</td>\n",
       "      <td>1502956800000</td>\n",
       "      <td>4333.32</td>\n",
       "      <td>4485.39</td>\n",
       "      <td>4333.32</td>\n",
       "      <td>4427.30</td>\n",
       "      <td>63.619882</td>\n",
       "    </tr>\n",
       "    <tr>\n",
       "      <th>1</th>\n",
       "      <td>66c11d3ad200ba7478e85a20</td>\n",
       "      <td>1502971200000</td>\n",
       "      <td>4436.06</td>\n",
       "      <td>4485.39</td>\n",
       "      <td>4333.42</td>\n",
       "      <td>4352.34</td>\n",
       "      <td>174.562001</td>\n",
       "    </tr>\n",
       "    <tr>\n",
       "      <th>2</th>\n",
       "      <td>66c11d3ad200ba7478e85a21</td>\n",
       "      <td>1502985600000</td>\n",
       "      <td>4352.33</td>\n",
       "      <td>4354.84</td>\n",
       "      <td>4200.74</td>\n",
       "      <td>4325.23</td>\n",
       "      <td>225.109716</td>\n",
       "    </tr>\n",
       "    <tr>\n",
       "      <th>3</th>\n",
       "      <td>66c11d3ad200ba7478e85a22</td>\n",
       "      <td>1503000000000</td>\n",
       "      <td>4307.56</td>\n",
       "      <td>4369.69</td>\n",
       "      <td>4258.56</td>\n",
       "      <td>4285.08</td>\n",
       "      <td>249.769913</td>\n",
       "    </tr>\n",
       "    <tr>\n",
       "      <th>4</th>\n",
       "      <td>66c11d3ad200ba7478e85a23</td>\n",
       "      <td>1503014400000</td>\n",
       "      <td>4285.08</td>\n",
       "      <td>4340.62</td>\n",
       "      <td>4134.61</td>\n",
       "      <td>4292.39</td>\n",
       "      <td>276.193043</td>\n",
       "    </tr>\n",
       "    <tr>\n",
       "      <th>...</th>\n",
       "      <td>...</td>\n",
       "      <td>...</td>\n",
       "      <td>...</td>\n",
       "      <td>...</td>\n",
       "      <td>...</td>\n",
       "      <td>...</td>\n",
       "      <td>...</td>\n",
       "    </tr>\n",
       "    <tr>\n",
       "      <th>15340</th>\n",
       "      <td>66c11d44d200ba7478e8960b</td>\n",
       "      <td>1723867200000</td>\n",
       "      <td>59158.36</td>\n",
       "      <td>59263.47</td>\n",
       "      <td>59051.98</td>\n",
       "      <td>59248.00</td>\n",
       "      <td>1106.844530</td>\n",
       "    </tr>\n",
       "    <tr>\n",
       "      <th>15341</th>\n",
       "      <td>66c11d44d200ba7478e8960c</td>\n",
       "      <td>1723881600000</td>\n",
       "      <td>59248.00</td>\n",
       "      <td>59477.16</td>\n",
       "      <td>59060.00</td>\n",
       "      <td>59137.12</td>\n",
       "      <td>1327.011360</td>\n",
       "    </tr>\n",
       "    <tr>\n",
       "      <th>15342</th>\n",
       "      <td>66c11d44d200ba7478e8960d</td>\n",
       "      <td>1723896000000</td>\n",
       "      <td>59137.12</td>\n",
       "      <td>59654.90</td>\n",
       "      <td>59100.28</td>\n",
       "      <td>59388.11</td>\n",
       "      <td>1490.864120</td>\n",
       "    </tr>\n",
       "    <tr>\n",
       "      <th>15343</th>\n",
       "      <td>66c11d44d200ba7478e8960e</td>\n",
       "      <td>1723910400000</td>\n",
       "      <td>59388.11</td>\n",
       "      <td>59700.00</td>\n",
       "      <td>59294.31</td>\n",
       "      <td>59473.19</td>\n",
       "      <td>1157.010550</td>\n",
       "    </tr>\n",
       "    <tr>\n",
       "      <th>15344</th>\n",
       "      <td>66c11d44d200ba7478e8960f</td>\n",
       "      <td>1723924800000</td>\n",
       "      <td>59473.19</td>\n",
       "      <td>59500.00</td>\n",
       "      <td>59113.68</td>\n",
       "      <td>59306.24</td>\n",
       "      <td>472.294370</td>\n",
       "    </tr>\n",
       "  </tbody>\n",
       "</table>\n",
       "<p>15345 rows × 7 columns</p>\n",
       "</div>"
      ],
      "text/plain": [
       "                            _id      timestamp      open      high       low  \\\n",
       "0      66c11d3ad200ba7478e85a1f  1502956800000   4333.32   4485.39   4333.32   \n",
       "1      66c11d3ad200ba7478e85a20  1502971200000   4436.06   4485.39   4333.42   \n",
       "2      66c11d3ad200ba7478e85a21  1502985600000   4352.33   4354.84   4200.74   \n",
       "3      66c11d3ad200ba7478e85a22  1503000000000   4307.56   4369.69   4258.56   \n",
       "4      66c11d3ad200ba7478e85a23  1503014400000   4285.08   4340.62   4134.61   \n",
       "...                         ...            ...       ...       ...       ...   \n",
       "15340  66c11d44d200ba7478e8960b  1723867200000  59158.36  59263.47  59051.98   \n",
       "15341  66c11d44d200ba7478e8960c  1723881600000  59248.00  59477.16  59060.00   \n",
       "15342  66c11d44d200ba7478e8960d  1723896000000  59137.12  59654.90  59100.28   \n",
       "15343  66c11d44d200ba7478e8960e  1723910400000  59388.11  59700.00  59294.31   \n",
       "15344  66c11d44d200ba7478e8960f  1723924800000  59473.19  59500.00  59113.68   \n",
       "\n",
       "          close       volume  \n",
       "0       4427.30    63.619882  \n",
       "1       4352.34   174.562001  \n",
       "2       4325.23   225.109716  \n",
       "3       4285.08   249.769913  \n",
       "4       4292.39   276.193043  \n",
       "...         ...          ...  \n",
       "15340  59248.00  1106.844530  \n",
       "15341  59137.12  1327.011360  \n",
       "15342  59388.11  1490.864120  \n",
       "15343  59473.19  1157.010550  \n",
       "15344  59306.24   472.294370  \n",
       "\n",
       "[15345 rows x 7 columns]"
      ]
     },
     "execution_count": 2,
     "metadata": {},
     "output_type": "execute_result"
    }
   ],
   "source": [
    "#Carga de base de datos\n",
    "path=\"Data/Bronce.precio_BTCUSDT_4h_Binance.csv\"\n",
    "df = pd.read_csv(path)\n",
    "df"
   ]
  },
  {
   "cell_type": "code",
   "execution_count": 3,
   "metadata": {},
   "outputs": [
    {
     "data": {
      "text/plain": [
       "(15345, 7)"
      ]
     },
     "execution_count": 3,
     "metadata": {},
     "output_type": "execute_result"
    }
   ],
   "source": [
    "# Identificar la cantidad de columnas y filas del dataframe\n",
    "df.shape"
   ]
  },
  {
   "cell_type": "code",
   "execution_count": 4,
   "metadata": {},
   "outputs": [
    {
     "data": {
      "text/html": [
       "<div>\n",
       "<style scoped>\n",
       "    .dataframe tbody tr th:only-of-type {\n",
       "        vertical-align: middle;\n",
       "    }\n",
       "\n",
       "    .dataframe tbody tr th {\n",
       "        vertical-align: top;\n",
       "    }\n",
       "\n",
       "    .dataframe thead th {\n",
       "        text-align: right;\n",
       "    }\n",
       "</style>\n",
       "<table border=\"1\" class=\"dataframe\">\n",
       "  <thead>\n",
       "    <tr style=\"text-align: right;\">\n",
       "      <th></th>\n",
       "      <th>_id</th>\n",
       "      <th>timestamp</th>\n",
       "      <th>open</th>\n",
       "      <th>high</th>\n",
       "      <th>low</th>\n",
       "      <th>close</th>\n",
       "      <th>volume</th>\n",
       "    </tr>\n",
       "  </thead>\n",
       "  <tbody>\n",
       "    <tr>\n",
       "      <th>0</th>\n",
       "      <td>66c11d3ad200ba7478e85a1f</td>\n",
       "      <td>1502956800000</td>\n",
       "      <td>4333.32</td>\n",
       "      <td>4485.39</td>\n",
       "      <td>4333.32</td>\n",
       "      <td>4427.30</td>\n",
       "      <td>63.619882</td>\n",
       "    </tr>\n",
       "    <tr>\n",
       "      <th>1</th>\n",
       "      <td>66c11d3ad200ba7478e85a20</td>\n",
       "      <td>1502971200000</td>\n",
       "      <td>4436.06</td>\n",
       "      <td>4485.39</td>\n",
       "      <td>4333.42</td>\n",
       "      <td>4352.34</td>\n",
       "      <td>174.562001</td>\n",
       "    </tr>\n",
       "    <tr>\n",
       "      <th>2</th>\n",
       "      <td>66c11d3ad200ba7478e85a21</td>\n",
       "      <td>1502985600000</td>\n",
       "      <td>4352.33</td>\n",
       "      <td>4354.84</td>\n",
       "      <td>4200.74</td>\n",
       "      <td>4325.23</td>\n",
       "      <td>225.109716</td>\n",
       "    </tr>\n",
       "    <tr>\n",
       "      <th>3</th>\n",
       "      <td>66c11d3ad200ba7478e85a22</td>\n",
       "      <td>1503000000000</td>\n",
       "      <td>4307.56</td>\n",
       "      <td>4369.69</td>\n",
       "      <td>4258.56</td>\n",
       "      <td>4285.08</td>\n",
       "      <td>249.769913</td>\n",
       "    </tr>\n",
       "    <tr>\n",
       "      <th>4</th>\n",
       "      <td>66c11d3ad200ba7478e85a23</td>\n",
       "      <td>1503014400000</td>\n",
       "      <td>4285.08</td>\n",
       "      <td>4340.62</td>\n",
       "      <td>4134.61</td>\n",
       "      <td>4292.39</td>\n",
       "      <td>276.193043</td>\n",
       "    </tr>\n",
       "  </tbody>\n",
       "</table>\n",
       "</div>"
      ],
      "text/plain": [
       "                        _id      timestamp     open     high      low  \\\n",
       "0  66c11d3ad200ba7478e85a1f  1502956800000  4333.32  4485.39  4333.32   \n",
       "1  66c11d3ad200ba7478e85a20  1502971200000  4436.06  4485.39  4333.42   \n",
       "2  66c11d3ad200ba7478e85a21  1502985600000  4352.33  4354.84  4200.74   \n",
       "3  66c11d3ad200ba7478e85a22  1503000000000  4307.56  4369.69  4258.56   \n",
       "4  66c11d3ad200ba7478e85a23  1503014400000  4285.08  4340.62  4134.61   \n",
       "\n",
       "     close      volume  \n",
       "0  4427.30   63.619882  \n",
       "1  4352.34  174.562001  \n",
       "2  4325.23  225.109716  \n",
       "3  4285.08  249.769913  \n",
       "4  4292.39  276.193043  "
      ]
     },
     "execution_count": 4,
     "metadata": {},
     "output_type": "execute_result"
    }
   ],
   "source": [
    "#Visualizar las primeras 5 filas del dataframe\n",
    "df.head()\n",
    "     "
   ]
  },
  {
   "cell_type": "code",
   "execution_count": 5,
   "metadata": {},
   "outputs": [
    {
     "data": {
      "text/html": [
       "<div>\n",
       "<style scoped>\n",
       "    .dataframe tbody tr th:only-of-type {\n",
       "        vertical-align: middle;\n",
       "    }\n",
       "\n",
       "    .dataframe tbody tr th {\n",
       "        vertical-align: top;\n",
       "    }\n",
       "\n",
       "    .dataframe thead th {\n",
       "        text-align: right;\n",
       "    }\n",
       "</style>\n",
       "<table border=\"1\" class=\"dataframe\">\n",
       "  <thead>\n",
       "    <tr style=\"text-align: right;\">\n",
       "      <th></th>\n",
       "      <th>_id</th>\n",
       "      <th>timestamp</th>\n",
       "      <th>open</th>\n",
       "      <th>high</th>\n",
       "      <th>low</th>\n",
       "      <th>close</th>\n",
       "      <th>volume</th>\n",
       "    </tr>\n",
       "  </thead>\n",
       "  <tbody>\n",
       "    <tr>\n",
       "      <th>15340</th>\n",
       "      <td>66c11d44d200ba7478e8960b</td>\n",
       "      <td>1723867200000</td>\n",
       "      <td>59158.36</td>\n",
       "      <td>59263.47</td>\n",
       "      <td>59051.98</td>\n",
       "      <td>59248.00</td>\n",
       "      <td>1106.84453</td>\n",
       "    </tr>\n",
       "    <tr>\n",
       "      <th>15341</th>\n",
       "      <td>66c11d44d200ba7478e8960c</td>\n",
       "      <td>1723881600000</td>\n",
       "      <td>59248.00</td>\n",
       "      <td>59477.16</td>\n",
       "      <td>59060.00</td>\n",
       "      <td>59137.12</td>\n",
       "      <td>1327.01136</td>\n",
       "    </tr>\n",
       "    <tr>\n",
       "      <th>15342</th>\n",
       "      <td>66c11d44d200ba7478e8960d</td>\n",
       "      <td>1723896000000</td>\n",
       "      <td>59137.12</td>\n",
       "      <td>59654.90</td>\n",
       "      <td>59100.28</td>\n",
       "      <td>59388.11</td>\n",
       "      <td>1490.86412</td>\n",
       "    </tr>\n",
       "    <tr>\n",
       "      <th>15343</th>\n",
       "      <td>66c11d44d200ba7478e8960e</td>\n",
       "      <td>1723910400000</td>\n",
       "      <td>59388.11</td>\n",
       "      <td>59700.00</td>\n",
       "      <td>59294.31</td>\n",
       "      <td>59473.19</td>\n",
       "      <td>1157.01055</td>\n",
       "    </tr>\n",
       "    <tr>\n",
       "      <th>15344</th>\n",
       "      <td>66c11d44d200ba7478e8960f</td>\n",
       "      <td>1723924800000</td>\n",
       "      <td>59473.19</td>\n",
       "      <td>59500.00</td>\n",
       "      <td>59113.68</td>\n",
       "      <td>59306.24</td>\n",
       "      <td>472.29437</td>\n",
       "    </tr>\n",
       "  </tbody>\n",
       "</table>\n",
       "</div>"
      ],
      "text/plain": [
       "                            _id      timestamp      open      high       low  \\\n",
       "15340  66c11d44d200ba7478e8960b  1723867200000  59158.36  59263.47  59051.98   \n",
       "15341  66c11d44d200ba7478e8960c  1723881600000  59248.00  59477.16  59060.00   \n",
       "15342  66c11d44d200ba7478e8960d  1723896000000  59137.12  59654.90  59100.28   \n",
       "15343  66c11d44d200ba7478e8960e  1723910400000  59388.11  59700.00  59294.31   \n",
       "15344  66c11d44d200ba7478e8960f  1723924800000  59473.19  59500.00  59113.68   \n",
       "\n",
       "          close      volume  \n",
       "15340  59248.00  1106.84453  \n",
       "15341  59137.12  1327.01136  \n",
       "15342  59388.11  1490.86412  \n",
       "15343  59473.19  1157.01055  \n",
       "15344  59306.24   472.29437  "
      ]
     },
     "execution_count": 5,
     "metadata": {},
     "output_type": "execute_result"
    }
   ],
   "source": [
    "#Visualizar las últimas 5 filas del dataframe\n",
    "df.tail()"
   ]
  },
  {
   "cell_type": "code",
   "execution_count": 6,
   "metadata": {},
   "outputs": [
    {
     "data": {
      "text/plain": [
       "_id           object\n",
       "timestamp      int64\n",
       "open         float64\n",
       "high         float64\n",
       "low          float64\n",
       "close        float64\n",
       "volume       float64\n",
       "dtype: object"
      ]
     },
     "execution_count": 6,
     "metadata": {},
     "output_type": "execute_result"
    }
   ],
   "source": [
    "# Identificar el tipo de dato de df\n",
    "df.dtypes"
   ]
  },
  {
   "cell_type": "markdown",
   "metadata": {},
   "source": [
    "1.2. CONVERTIR EL TIPO DE DATO AL REQUERIDO PARA EL PROYECTO"
   ]
  },
  {
   "cell_type": "markdown",
   "metadata": {},
   "source": [
    "Debido a que se va a llevar a cabo un proyecto de series de tiempo, es necesario crear una variable \"fecha\" a partir de la variable timestamp (la cual esta en tiempo unix en milisegundos), dicha variable debe ser primero convertida a formato datatime:"
   ]
  },
  {
   "cell_type": "code",
   "execution_count": 7,
   "metadata": {},
   "outputs": [
    {
     "name": "stdout",
     "output_type": "stream",
     "text": [
      "       timestamp               fecha\n",
      "0  1502956800000 2017-08-17 08:00:00\n",
      "1  1502971200000 2017-08-17 12:00:00\n",
      "2  1502985600000 2017-08-17 16:00:00\n",
      "3  1503000000000 2017-08-17 20:00:00\n",
      "4  1503014400000 2017-08-18 00:00:00\n"
     ]
    }
   ],
   "source": [
    "#Crear la columna fecha a partir de la columna timestamp\n",
    "df['fecha'] = pd.to_datetime(df['timestamp'], unit='ms')\n",
    "# Verificar que la columna 'fecha' se haya creado correctamente\n",
    "print(df[['timestamp', 'fecha']].head())"
   ]
  },
  {
   "cell_type": "markdown",
   "metadata": {},
   "source": [
    "Con el paso anterior se verifica la creación de la nueva variable y que cumpla el formato tipo datatime:"
   ]
  },
  {
   "cell_type": "code",
   "execution_count": 8,
   "metadata": {},
   "outputs": [
    {
     "data": {
      "text/plain": [
       "_id                  object\n",
       "timestamp             int64\n",
       "open                float64\n",
       "high                float64\n",
       "low                 float64\n",
       "close               float64\n",
       "volume              float64\n",
       "fecha        datetime64[ns]\n",
       "dtype: object"
      ]
     },
     "execution_count": 8,
     "metadata": {},
     "output_type": "execute_result"
    }
   ],
   "source": [
    "# Identificar el tipo de dato de df\n",
    "df.dtypes"
   ]
  },
  {
   "cell_type": "markdown",
   "metadata": {},
   "source": [
    "1.3. BUSQUEDA Y TRATAMIENTO DE DUPLICADOS"
   ]
  },
  {
   "cell_type": "code",
   "execution_count": 9,
   "metadata": {},
   "outputs": [
    {
     "name": "stdout",
     "output_type": "stream",
     "text": [
      "Cantidad de datos duplicados: 15\n"
     ]
    }
   ],
   "source": [
    "#Verificar duplicidad en los datos\n",
    "num_duplicados = df.duplicated(subset='fecha').sum()\n",
    "print(f\"Cantidad de datos duplicados: {num_duplicados}\")"
   ]
  },
  {
   "cell_type": "markdown",
   "metadata": {},
   "source": [
    "Debido a que se identifican 15 datos duplicados en el dataframe, se procede a verificar una muestra de dichos duplicados:"
   ]
  },
  {
   "cell_type": "code",
   "execution_count": 10,
   "metadata": {},
   "outputs": [
    {
     "name": "stdout",
     "output_type": "stream",
     "text": [
      "Datos duplicados:\n"
     ]
    },
    {
     "data": {
      "text/html": [
       "<div>\n",
       "<style scoped>\n",
       "    .dataframe tbody tr th:only-of-type {\n",
       "        vertical-align: middle;\n",
       "    }\n",
       "\n",
       "    .dataframe tbody tr th {\n",
       "        vertical-align: top;\n",
       "    }\n",
       "\n",
       "    .dataframe thead th {\n",
       "        text-align: right;\n",
       "    }\n",
       "</style>\n",
       "<table border=\"1\" class=\"dataframe\">\n",
       "  <thead>\n",
       "    <tr style=\"text-align: right;\">\n",
       "      <th></th>\n",
       "      <th>_id</th>\n",
       "      <th>timestamp</th>\n",
       "      <th>open</th>\n",
       "      <th>high</th>\n",
       "      <th>low</th>\n",
       "      <th>close</th>\n",
       "      <th>volume</th>\n",
       "      <th>fecha</th>\n",
       "    </tr>\n",
       "  </thead>\n",
       "  <tbody>\n",
       "    <tr>\n",
       "      <th>999</th>\n",
       "      <td>66c11d3ad200ba7478e85e06</td>\n",
       "      <td>1517342400000</td>\n",
       "      <td>10380.00</td>\n",
       "      <td>10565.84</td>\n",
       "      <td>10095.31</td>\n",
       "      <td>10237.51</td>\n",
       "      <td>4737.906346</td>\n",
       "      <td>2018-01-30 20:00:00</td>\n",
       "    </tr>\n",
       "    <tr>\n",
       "      <th>1000</th>\n",
       "      <td>66c11d3ad200ba7478e85e07</td>\n",
       "      <td>1517342400000</td>\n",
       "      <td>10380.00</td>\n",
       "      <td>10565.84</td>\n",
       "      <td>10095.31</td>\n",
       "      <td>10237.51</td>\n",
       "      <td>4737.906346</td>\n",
       "      <td>2018-01-30 20:00:00</td>\n",
       "    </tr>\n",
       "    <tr>\n",
       "      <th>1999</th>\n",
       "      <td>66c11d3ad200ba7478e861ee</td>\n",
       "      <td>1531872000000</td>\n",
       "      <td>7317.44</td>\n",
       "      <td>7550.00</td>\n",
       "      <td>7309.64</td>\n",
       "      <td>7457.03</td>\n",
       "      <td>9867.367577</td>\n",
       "      <td>2018-07-18 00:00:00</td>\n",
       "    </tr>\n",
       "    <tr>\n",
       "      <th>2000</th>\n",
       "      <td>66c11d3bd200ba7478e861ef</td>\n",
       "      <td>1531872000000</td>\n",
       "      <td>7317.44</td>\n",
       "      <td>7550.00</td>\n",
       "      <td>7309.64</td>\n",
       "      <td>7457.03</td>\n",
       "      <td>9867.367577</td>\n",
       "      <td>2018-07-18 00:00:00</td>\n",
       "    </tr>\n",
       "    <tr>\n",
       "      <th>2999</th>\n",
       "      <td>66c11d3bd200ba7478e865d6</td>\n",
       "      <td>1546272000000</td>\n",
       "      <td>3752.22</td>\n",
       "      <td>3776.85</td>\n",
       "      <td>3630.33</td>\n",
       "      <td>3687.47</td>\n",
       "      <td>6179.613282</td>\n",
       "      <td>2018-12-31 16:00:00</td>\n",
       "    </tr>\n",
       "  </tbody>\n",
       "</table>\n",
       "</div>"
      ],
      "text/plain": [
       "                           _id      timestamp      open      high       low  \\\n",
       "999   66c11d3ad200ba7478e85e06  1517342400000  10380.00  10565.84  10095.31   \n",
       "1000  66c11d3ad200ba7478e85e07  1517342400000  10380.00  10565.84  10095.31   \n",
       "1999  66c11d3ad200ba7478e861ee  1531872000000   7317.44   7550.00   7309.64   \n",
       "2000  66c11d3bd200ba7478e861ef  1531872000000   7317.44   7550.00   7309.64   \n",
       "2999  66c11d3bd200ba7478e865d6  1546272000000   3752.22   3776.85   3630.33   \n",
       "\n",
       "         close       volume               fecha  \n",
       "999   10237.51  4737.906346 2018-01-30 20:00:00  \n",
       "1000  10237.51  4737.906346 2018-01-30 20:00:00  \n",
       "1999   7457.03  9867.367577 2018-07-18 00:00:00  \n",
       "2000   7457.03  9867.367577 2018-07-18 00:00:00  \n",
       "2999   3687.47  6179.613282 2018-12-31 16:00:00  "
      ]
     },
     "execution_count": 10,
     "metadata": {},
     "output_type": "execute_result"
    }
   ],
   "source": [
    "# Verificar y mostrar una muestra de los datos duplicados\n",
    "duplicados = df[df.duplicated(subset='fecha', keep=False)]\n",
    "print(\"Datos duplicados:\")\n",
    "duplicados.head()  # Mostrar las primeras filas de los datos duplicados"
   ]
  },
  {
   "cell_type": "markdown",
   "metadata": {},
   "source": [
    "Ahora se procede a eliminar los duplicados para limpiar el dataframe:"
   ]
  },
  {
   "cell_type": "code",
   "execution_count": 11,
   "metadata": {},
   "outputs": [],
   "source": [
    "# Eliminar duplicados a partir de la columna fecha\n",
    "df.drop_duplicates(subset='fecha', inplace=True)  "
   ]
  },
  {
   "cell_type": "markdown",
   "metadata": {},
   "source": [
    "Se verifica que efectivamente se haya eliminado los duplicados:"
   ]
  },
  {
   "cell_type": "code",
   "execution_count": 12,
   "metadata": {},
   "outputs": [
    {
     "name": "stdout",
     "output_type": "stream",
     "text": [
      "Cantidad de datos duplicados: 0\n"
     ]
    }
   ],
   "source": [
    "#Verificar duplicidad en los datos\n",
    "num_duplicados = df.duplicated(subset='fecha').sum()\n",
    "print(f\"Cantidad de datos duplicados: {num_duplicados}\")"
   ]
  },
  {
   "cell_type": "markdown",
   "metadata": {},
   "source": [
    "1.4. IDENTIFICACION Y TRATAMIENTO DE VALORES UNICOS Y DATOS FALTANTES"
   ]
  },
  {
   "cell_type": "markdown",
   "metadata": {},
   "source": [
    "Es importante asegurarse de como se comportan los datos en el dataframe, es decir si contamos con valores unicos o caso contrario vemos repetición de datos en el mismo, de acuerdo a lo siguiente, se puede evidenciar que en general todos los datos tienden a ser unicos, sin embargo como era de esperarse se pueden repetir datos en las variables open, high, low y close ya que el comportamiento del activo puede tomar un mismo valor n veces. "
   ]
  },
  {
   "cell_type": "code",
   "execution_count": 13,
   "metadata": {},
   "outputs": [
    {
     "data": {
      "text/plain": [
       "_id          15330\n",
       "timestamp    15330\n",
       "open         15219\n",
       "high         14313\n",
       "low          14341\n",
       "close        15211\n",
       "volume       15330\n",
       "fecha        15330\n",
       "dtype: int64"
      ]
     },
     "execution_count": 13,
     "metadata": {},
     "output_type": "execute_result"
    }
   ],
   "source": [
    "#Identificar datos unicos\n",
    "df.nunique()"
   ]
  },
  {
   "cell_type": "markdown",
   "metadata": {},
   "source": [
    "Con lo anterior tambien podemos identificar la existencia de datos faltantes, lo cual sera verificado a continuación:"
   ]
  },
  {
   "cell_type": "code",
   "execution_count": 14,
   "metadata": {},
   "outputs": [
    {
     "name": "stdout",
     "output_type": "stream",
     "text": [
      "Datos faltantes:\n",
      "                     _id  timestamp  open  high  low  close  volume\n",
      "fecha                                                              \n",
      "2018-02-08 04:00:00  NaN        NaN   NaN   NaN  NaN    NaN     NaN\n",
      "2018-02-08 08:00:00  NaN        NaN   NaN   NaN  NaN    NaN     NaN\n",
      "2018-02-08 12:00:00  NaN        NaN   NaN   NaN  NaN    NaN     NaN\n",
      "2018-02-08 16:00:00  NaN        NaN   NaN   NaN  NaN    NaN     NaN\n",
      "2018-02-08 20:00:00  NaN        NaN   NaN   NaN  NaN    NaN     NaN\n",
      "2018-02-09 00:00:00  NaN        NaN   NaN   NaN  NaN    NaN     NaN\n",
      "2018-02-09 04:00:00  NaN        NaN   NaN   NaN  NaN    NaN     NaN\n",
      "2018-06-26 04:00:00  NaN        NaN   NaN   NaN  NaN    NaN     NaN\n",
      "2018-06-26 08:00:00  NaN        NaN   NaN   NaN  NaN    NaN     NaN\n",
      "2018-07-04 04:00:00  NaN        NaN   NaN   NaN  NaN    NaN     NaN\n",
      "2018-11-14 04:00:00  NaN        NaN   NaN   NaN  NaN    NaN     NaN\n",
      "2019-03-12 04:00:00  NaN        NaN   NaN   NaN  NaN    NaN     NaN\n",
      "2019-05-15 04:00:00  NaN        NaN   NaN   NaN  NaN    NaN     NaN\n",
      "2019-05-15 08:00:00  NaN        NaN   NaN   NaN  NaN    NaN     NaN\n",
      "2019-08-15 04:00:00  NaN        NaN   NaN   NaN  NaN    NaN     NaN\n",
      "2020-02-19 12:00:00  NaN        NaN   NaN   NaN  NaN    NaN     NaN\n",
      "\n",
      "Cantidad total de filas con datos faltantes: 16\n"
     ]
    }
   ],
   "source": [
    "# Identificar datos faltantes\n",
    "df.set_index('fecha', inplace=True)  # Establecer timestamp como índice\n",
    "df = df.resample('4h').asfreq()  # Re-samplear a intervalos de 4 horas\n",
    "missing_data = df[df.isnull().any(axis=1)]  # Filtrar filas con datos faltantes\n",
    "\n",
    "print(\"Datos faltantes:\")\n",
    "print(missing_data)\n",
    "\n",
    "# Imprimir la cantidad total de filas con datos faltantes\n",
    "print(\"\\nCantidad total de filas con datos faltantes:\", missing_data.shape[0])"
   ]
  },
  {
   "cell_type": "markdown",
   "metadata": {},
   "source": [
    "Efectivamente se identifica la ausencia de 16 datos, traduciendose esto en 16 filas completas que no fueron registradas. A continuación verificamos cuando en porcentaje representan los datos faltantes en el dataframe:"
   ]
  },
  {
   "cell_type": "code",
   "execution_count": 15,
   "metadata": {},
   "outputs": [
    {
     "name": "stdout",
     "output_type": "stream",
     "text": [
      "Porcentaje de datos NaN por columna:\n",
      "_id          0.104262\n",
      "timestamp    0.104262\n",
      "open         0.104262\n",
      "high         0.104262\n",
      "low          0.104262\n",
      "close        0.104262\n",
      "volume       0.104262\n",
      "dtype: float64\n"
     ]
    }
   ],
   "source": [
    "# Calcular el porcentaje de datos NaN en cada columna\n",
    "porcentaje_nan = df.isna().mean() * 100\n",
    "print(\"Porcentaje de datos NaN por columna:\")\n",
    "print(porcentaje_nan)"
   ]
  },
  {
   "cell_type": "markdown",
   "metadata": {},
   "source": [
    "A partir de la identificación de los datos faltantes, se lleva a cabo 3 soluciones: \n",
    "\n",
    "Eliminación de datos faltantes (ya que este no supera ni el 1% del total de los datos), \n",
    "Interpolación Spline\n",
    "Interpolación con ARIMA\n",
    "\n",
    "Se aplica como imputacion de datos faltantes la Interpolación, ya que para este caso, es util en series de tiempo porque permite estimar valores faltantes basandose en los valores adyacentes. Tanto la Interpolación spline como la ARIMA, se aplican unicamente para la variable \"close\", que es la variable que se selecciono como importante para la entrega de este taller.\n",
    "\n",
    "De igual forma para verificar cual es el mejor tratamiento de datos faltantes se aplica un modelo ARIMA para cada una de las soluciones, verificando cual de las 3 arroja el mejor MSE y RMSE.\n",
    "\n",
    "A continuación se presentan las 3 soluciones planteadas, con su respectivo modelo ARIMA y sus respectivos MSE y RMSE:"
   ]
  },
  {
   "cell_type": "markdown",
   "metadata": {},
   "source": [
    "SOLUCION ELIMINACIÓN DE DATOS FALTANTES"
   ]
  },
  {
   "cell_type": "markdown",
   "metadata": {},
   "source": [
    "A continuación se lleva a cabo la eliminación de las 16 filas con datos faltantes quedando un total de filas de 15346:"
   ]
  },
  {
   "cell_type": "code",
   "execution_count": 16,
   "metadata": {},
   "outputs": [
    {
     "name": "stdout",
     "output_type": "stream",
     "text": [
      "Cantidad de filas antes de eliminar nulos: 15346\n",
      "Cantidad de filas después de eliminar nulos: 15330\n",
      "                                          _id     timestamp     open     high  \\\n",
      "fecha                                                                           \n",
      "2017-08-17 08:00:00  66c11d3ad200ba7478e85a1f  1.502957e+12  4333.32  4485.39   \n",
      "2017-08-17 12:00:00  66c11d3ad200ba7478e85a20  1.502971e+12  4436.06  4485.39   \n",
      "2017-08-17 16:00:00  66c11d3ad200ba7478e85a21  1.502986e+12  4352.33  4354.84   \n",
      "2017-08-17 20:00:00  66c11d3ad200ba7478e85a22  1.503000e+12  4307.56  4369.69   \n",
      "2017-08-18 00:00:00  66c11d3ad200ba7478e85a23  1.503014e+12  4285.08  4340.62   \n",
      "\n",
      "                         low    close      volume  \n",
      "fecha                                              \n",
      "2017-08-17 08:00:00  4333.32  4427.30   63.619882  \n",
      "2017-08-17 12:00:00  4333.42  4352.34  174.562001  \n",
      "2017-08-17 16:00:00  4200.74  4325.23  225.109716  \n",
      "2017-08-17 20:00:00  4258.56  4285.08  249.769913  \n",
      "2017-08-18 00:00:00  4134.61  4292.39  276.193043  \n"
     ]
    }
   ],
   "source": [
    "# Crear una copia del DataFrame original\n",
    "df_nulos = df.copy()\n",
    "\n",
    "# Eliminar filas con datos faltantes\n",
    "df_sin_nulos = df_nulos.dropna()\n",
    "\n",
    "# Mostrar la cantidad de filas antes y después de eliminar los datos nulos\n",
    "print(f\"Cantidad de filas antes de eliminar nulos: {df.shape[0]}\")\n",
    "print(f\"Cantidad de filas después de eliminar nulos: {df_sin_nulos.shape[0]}\")\n",
    "\n",
    "# Mostrar un ejemplo de los datos sin nulos\n",
    "print(df_sin_nulos.head())"
   ]
  },
  {
   "cell_type": "markdown",
   "metadata": {},
   "source": [
    "INTERPOLACION SPLINE"
   ]
  },
  {
   "cell_type": "markdown",
   "metadata": {},
   "source": [
    "Este metodo de imputacion se aplica ya que los datos faltantes son pocos y estan dispersos en intervalos cortos, además de que los valores de la serie de tiempo cambian de manera no lineal. A continuación se muestra el proceso de interpolación Spline y se verifica que se haya imputado los NAN de la variable \"close\":"
   ]
  },
  {
   "cell_type": "code",
   "execution_count": 17,
   "metadata": {},
   "outputs": [],
   "source": [
    "# Crear una copia del DataFrame original\n",
    "df_interpolated = df.copy()\n",
    "\n",
    "# Aplicar la interpolación en la columna 'close'\n",
    "df_interpolated['close'] = df_interpolated['close'].interpolate(method='spline', order=2)\n",
    "#df_interpolated = df.interpolate(method='polynomial', order=2)"
   ]
  },
  {
   "cell_type": "code",
   "execution_count": 18,
   "metadata": {},
   "outputs": [
    {
     "name": "stdout",
     "output_type": "stream",
     "text": [
      "Porcentaje de datos NaN por columna:\n",
      "_id          0.104262\n",
      "timestamp    0.104262\n",
      "open         0.104262\n",
      "high         0.104262\n",
      "low          0.104262\n",
      "close        0.000000\n",
      "volume       0.104262\n",
      "dtype: float64\n"
     ]
    }
   ],
   "source": [
    "# Calcular el porcentaje de datos NaN en cada columna\n",
    "porcentaje_nan = df_interpolated.isna().mean() * 100\n",
    "print(\"Porcentaje de datos NaN por columna:\")\n",
    "print(porcentaje_nan)"
   ]
  },
  {
   "cell_type": "markdown",
   "metadata": {},
   "source": [
    "INTERPOLACION CON ARIMA"
   ]
  },
  {
   "cell_type": "markdown",
   "metadata": {},
   "source": [
    "Este metodo de interpolación es más avanzado y tiene en cuenta las características temporales de los datos de esta serie de tiempo. Sin embargo puede ser mas complejo computacionalmente, pero en vista de que no son muchos datos que se tienen que imputar y se quiere una interpolación mas precisa, se opta por implementar este metodo el cual se presenta a continuación:"
   ]
  },
  {
   "cell_type": "code",
   "execution_count": 19,
   "metadata": {},
   "outputs": [
    {
     "name": "stdout",
     "output_type": "stream",
     "text": [
      "                                          _id     timestamp      open  \\\n",
      "fecha                                                                   \n",
      "2017-08-17 08:00:00  66c11d3ad200ba7478e85a1f  1.502957e+12   4333.32   \n",
      "2017-08-17 12:00:00  66c11d3ad200ba7478e85a20  1.502971e+12   4436.06   \n",
      "2017-08-17 16:00:00  66c11d3ad200ba7478e85a21  1.502986e+12   4352.33   \n",
      "2017-08-17 20:00:00  66c11d3ad200ba7478e85a22  1.503000e+12   4307.56   \n",
      "2017-08-18 00:00:00  66c11d3ad200ba7478e85a23  1.503014e+12   4285.08   \n",
      "...                                       ...           ...       ...   \n",
      "2024-08-17 04:00:00  66c11d44d200ba7478e8960b  1.723867e+12  59158.36   \n",
      "2024-08-17 08:00:00  66c11d44d200ba7478e8960c  1.723882e+12  59248.00   \n",
      "2024-08-17 12:00:00  66c11d44d200ba7478e8960d  1.723896e+12  59137.12   \n",
      "2024-08-17 16:00:00  66c11d44d200ba7478e8960e  1.723910e+12  59388.11   \n",
      "2024-08-17 20:00:00  66c11d44d200ba7478e8960f  1.723925e+12  59473.19   \n",
      "\n",
      "                         high       low     close       volume  \n",
      "fecha                                                           \n",
      "2017-08-17 08:00:00   4485.39   4333.32   4427.30    63.619882  \n",
      "2017-08-17 12:00:00   4485.39   4333.42   4352.34   174.562001  \n",
      "2017-08-17 16:00:00   4354.84   4200.74   4325.23   225.109716  \n",
      "2017-08-17 20:00:00   4369.69   4258.56   4285.08   249.769913  \n",
      "2017-08-18 00:00:00   4340.62   4134.61   4292.39   276.193043  \n",
      "...                       ...       ...       ...          ...  \n",
      "2024-08-17 04:00:00  59263.47  59051.98  59248.00  1106.844530  \n",
      "2024-08-17 08:00:00  59477.16  59060.00  59137.12  1327.011360  \n",
      "2024-08-17 12:00:00  59654.90  59100.28  59388.11  1490.864120  \n",
      "2024-08-17 16:00:00  59700.00  59294.31  59473.19  1157.010550  \n",
      "2024-08-17 20:00:00  59500.00  59113.68  59306.24   472.294370  \n",
      "\n",
      "[15346 rows x 7 columns]\n"
     ]
    }
   ],
   "source": [
    "import warnings\n",
    "\n",
    "# Para ignorar todas las advertencias\n",
    "warnings.filterwarnings('ignore')\n",
    "\n",
    "# Crear una copia del DataFrame\n",
    "df_interpolated_arima = df.copy()\n",
    "\n",
    "# Iterar sobre las filas con datos faltantes\n",
    "for i in range(len(df)):\n",
    "    if pd.isna(df['close'].iloc[i]):\n",
    "        # Definir la serie hasta el punto faltante, ignorando los NaNs\n",
    "        train_data = df_interpolated_arima['close'][:i].dropna()\n",
    "        \n",
    "        # Ajustar el modelo ARIMA a los datos disponibles\n",
    "        model = ARIMA(train_data, order=(5, 1, 0))  # Order=(p,d,q) puedes ajustar p,d,q según la serie temporal\n",
    "        model_fit = model.fit()\n",
    "\n",
    "        # Predecir el valor faltante\n",
    "        pred = model_fit.forecast(steps=1)[0]\n",
    "\n",
    "        # Rellenar el valor faltante\n",
    "        df_interpolated_arima['close'].iloc[i] = pred\n",
    "\n",
    "# Mostrar el DataFrame con los valores interpolados\n",
    "print(df_interpolated_arima)"
   ]
  },
  {
   "cell_type": "code",
   "execution_count": 20,
   "metadata": {},
   "outputs": [
    {
     "name": "stdout",
     "output_type": "stream",
     "text": [
      "Porcentaje de datos NaN por columna:\n",
      "_id          0.104262\n",
      "timestamp    0.104262\n",
      "open         0.104262\n",
      "high         0.104262\n",
      "low          0.104262\n",
      "close        0.000000\n",
      "volume       0.104262\n",
      "dtype: float64\n"
     ]
    }
   ],
   "source": [
    "# Calcular el porcentaje de datos NaN en cada columna\n",
    "porcentaje_nan = df_interpolated_arima.isna().mean() * 100\n",
    "print(\"Porcentaje de datos NaN por columna:\")\n",
    "print(porcentaje_nan)"
   ]
  },
  {
   "cell_type": "markdown",
   "metadata": {},
   "source": [
    "Ya tratados los datos nulos a partir de las 3 soluciones anteriores, aplicamos un modelo de ARIMA para identificar cual de estos metodos fue el mas efectivo:"
   ]
  },
  {
   "cell_type": "markdown",
   "metadata": {},
   "source": [
    "2.5. MODELO ARIMA PARA EVALUAR EL IMPACTO DE LAS 3 SOLUCIONES DE TRATAMIENTO DE DATOS FALTANTES"
   ]
  },
  {
   "cell_type": "markdown",
   "metadata": {},
   "source": [
    "Como la variable relevante para este taller es la columna \"close\", el tratamiento de los datos faltantes esta en función de dicha variable, asegurando que esta quede preparada para implementar modelos de series de tiempo. A continuación se presenta el resultado del modelo ARIMA para cada una de las soluciones propuestas para el tratamiento de los datos faltantes:"
   ]
  },
  {
   "cell_type": "markdown",
   "metadata": {},
   "source": [
    "SOLUCION ELIMINACIÓN DE DATOS FALTANTES"
   ]
  },
  {
   "cell_type": "markdown",
   "metadata": {},
   "source": [
    "Preparación de los datos"
   ]
  },
  {
   "cell_type": "code",
   "execution_count": 21,
   "metadata": {},
   "outputs": [],
   "source": [
    "# Seleccionar solo la columna de interés (en este caso, el precio de cierre o close)\n",
    "data = df_sin_nulos['close']"
   ]
  },
  {
   "cell_type": "markdown",
   "metadata": {},
   "source": [
    "División en conjuntos de entrenamiento y prueba"
   ]
  },
  {
   "cell_type": "code",
   "execution_count": 22,
   "metadata": {},
   "outputs": [
    {
     "name": "stdout",
     "output_type": "stream",
     "text": [
      "Tamaño del conjunto de entrenamiento: 12264\n",
      "Tamaño del conjunto de prueba: 3066\n"
     ]
    }
   ],
   "source": [
    "# Dividir en 80% datos de entrenamiento y 20% datos de prueba\n",
    "train_size = int(len(data) * 0.8)\n",
    "train, test = data[:train_size], data[train_size:]\n",
    "\n",
    "print(f'Tamaño del conjunto de entrenamiento: {len(train)}')\n",
    "print(f'Tamaño del conjunto de prueba: {len(test)}')"
   ]
  },
  {
   "cell_type": "markdown",
   "metadata": {},
   "source": [
    "Entrenamiento del modelo ARIMA"
   ]
  },
  {
   "cell_type": "code",
   "execution_count": 23,
   "metadata": {},
   "outputs": [
    {
     "name": "stdout",
     "output_type": "stream",
     "text": [
      "                               SARIMAX Results                                \n",
      "==============================================================================\n",
      "Dep. Variable:                  close   No. Observations:                12264\n",
      "Model:                 ARIMA(5, 1, 0)   Log Likelihood              -91335.903\n",
      "Date:                Tue, 20 Aug 2024   AIC                         182683.806\n",
      "Time:                        17:54:51   BIC                         182728.292\n",
      "Sample:                             0   HQIC                        182698.713\n",
      "                              - 12264                                         \n",
      "Covariance Type:                  opg                                         \n",
      "==============================================================================\n",
      "                 coef    std err          z      P>|z|      [0.025      0.975]\n",
      "------------------------------------------------------------------------------\n",
      "ar.L1         -0.0478      0.004    -11.189      0.000      -0.056      -0.039\n",
      "ar.L2          0.0280      0.004      7.201      0.000       0.020       0.036\n",
      "ar.L3          0.0247      0.004      5.681      0.000       0.016       0.033\n",
      "ar.L4         -0.0036      0.005     -0.751      0.453      -0.013       0.006\n",
      "ar.L5         -0.0117      0.004     -2.705      0.007      -0.020      -0.003\n",
      "sigma2      1.726e+05    682.773    252.785      0.000    1.71e+05    1.74e+05\n",
      "===================================================================================\n",
      "Ljung-Box (L1) (Q):                   0.01   Jarque-Bera (JB):            206092.61\n",
      "Prob(Q):                              0.94   Prob(JB):                         0.00\n",
      "Heteroskedasticity (H):               8.00   Skew:                            -0.46\n",
      "Prob(H) (two-sided):                  0.00   Kurtosis:                        23.06\n",
      "===================================================================================\n",
      "\n",
      "Warnings:\n",
      "[1] Covariance matrix calculated using the outer product of gradients (complex-step).\n"
     ]
    }
   ],
   "source": [
    "import warnings\n",
    "\n",
    "# Para ignorar todas las advertencias\n",
    "warnings.filterwarnings('ignore')\n",
    "\n",
    "# Definir el modelo ARIMA (p=5, d=1, q=0 son parámetros comunes; se pueden ajustar según los datos)\n",
    "model = ARIMA(train, order=(5, 1, 0))\n",
    "\n",
    "# Entrenar el modelo\n",
    "model_fit = model.fit()\n",
    "print(model_fit.summary())"
   ]
  },
  {
   "cell_type": "markdown",
   "metadata": {},
   "source": [
    "Predicción y evaluación"
   ]
  },
  {
   "cell_type": "code",
   "execution_count": 24,
   "metadata": {},
   "outputs": [
    {
     "name": "stdout",
     "output_type": "stream",
     "text": [
      "Error Cuadrático Medio (MSE): 535435452.7283113\n",
      "Raíz del Error Cuadrático Medio (RMSE): 23139.478229387787\n"
     ]
    }
   ],
   "source": [
    "import warnings\n",
    "\n",
    "# Para ignorar todas las advertencias\n",
    "warnings.filterwarnings('ignore')\n",
    "\n",
    "# Realizar predicciones en el conjunto de prueba\n",
    "predictions = model_fit.forecast(steps=len(test))\n",
    "\n",
    "# Calcular el error cuadrático medio (MSE)\n",
    "mse = mean_squared_error(test, predictions)\n",
    "rmse = np.sqrt(mse)\n",
    "\n",
    "print(f'Error Cuadrático Medio (MSE): {mse}')\n",
    "print(f'Raíz del Error Cuadrático Medio (RMSE): {rmse}')"
   ]
  },
  {
   "cell_type": "markdown",
   "metadata": {},
   "source": [
    "INTERPOLACION SPLINE"
   ]
  },
  {
   "cell_type": "markdown",
   "metadata": {},
   "source": [
    "Preparacion de datos"
   ]
  },
  {
   "cell_type": "code",
   "execution_count": 25,
   "metadata": {},
   "outputs": [],
   "source": [
    "# Seleccionar solo la columna de interés (en este caso, el precio de cierre o close)\n",
    "data_1 = df_interpolated['close']"
   ]
  },
  {
   "cell_type": "markdown",
   "metadata": {},
   "source": [
    "División en conjuntos de entrenamiento y prueba"
   ]
  },
  {
   "cell_type": "code",
   "execution_count": 26,
   "metadata": {},
   "outputs": [
    {
     "name": "stdout",
     "output_type": "stream",
     "text": [
      "Tamaño del conjunto de entrenamiento: 12276\n",
      "Tamaño del conjunto de prueba: 3070\n"
     ]
    }
   ],
   "source": [
    "# Dividir en 80% datos de entrenamiento y 20% datos de prueba\n",
    "train_size = int(len(data_1) * 0.8)\n",
    "train_1, test_1 = data_1[:train_size], data_1[train_size:]\n",
    "\n",
    "print(f'Tamaño del conjunto de entrenamiento: {len(train_1)}')\n",
    "print(f'Tamaño del conjunto de prueba: {len(test_1)}')"
   ]
  },
  {
   "cell_type": "markdown",
   "metadata": {},
   "source": [
    "Entrenamiento del modelo ARIMA"
   ]
  },
  {
   "cell_type": "code",
   "execution_count": 27,
   "metadata": {},
   "outputs": [
    {
     "name": "stdout",
     "output_type": "stream",
     "text": [
      "                               SARIMAX Results                                \n",
      "==============================================================================\n",
      "Dep. Variable:                  close   No. Observations:                12276\n",
      "Model:                 ARIMA(5, 1, 0)   Log Likelihood              -91418.192\n",
      "Date:                Tue, 20 Aug 2024   AIC                         182848.385\n",
      "Time:                        17:54:52   BIC                         182892.877\n",
      "Sample:                    08-17-2017   HQIC                        182863.293\n",
      "                         - 03-25-2023                                         \n",
      "Covariance Type:                  opg                                         \n",
      "==============================================================================\n",
      "                 coef    std err          z      P>|z|      [0.025      0.975]\n",
      "------------------------------------------------------------------------------\n",
      "ar.L1         -0.0476      0.004    -11.172      0.000      -0.056      -0.039\n",
      "ar.L2          0.0279      0.004      7.198      0.000       0.020       0.036\n",
      "ar.L3          0.0245      0.004      5.653      0.000       0.016       0.033\n",
      "ar.L4         -0.0035      0.005     -0.737      0.461      -0.013       0.006\n",
      "ar.L5         -0.0117      0.004     -2.715      0.007      -0.020      -0.003\n",
      "sigma2      1.724e+05    681.186    253.081      0.000    1.71e+05    1.74e+05\n",
      "===================================================================================\n",
      "Ljung-Box (L1) (Q):                   0.01   Jarque-Bera (JB):            206934.60\n",
      "Prob(Q):                              0.94   Prob(JB):                         0.00\n",
      "Heteroskedasticity (H):               8.25   Skew:                            -0.46\n",
      "Prob(H) (two-sided):                  0.00   Kurtosis:                        23.09\n",
      "===================================================================================\n",
      "\n",
      "Warnings:\n",
      "[1] Covariance matrix calculated using the outer product of gradients (complex-step).\n"
     ]
    }
   ],
   "source": [
    "# Definir el modelo ARIMA (p=5, d=1, q=0 son parámetros comunes; se pueden ajustar según los datos)\n",
    "model_1 = ARIMA(train_1, order=(5, 1, 0))\n",
    "\n",
    "# Entrenar el modelo\n",
    "model_fit_1 = model_1.fit()\n",
    "print(model_fit_1.summary())"
   ]
  },
  {
   "cell_type": "markdown",
   "metadata": {},
   "source": [
    "Predicción y evaluación"
   ]
  },
  {
   "cell_type": "code",
   "execution_count": 28,
   "metadata": {},
   "outputs": [
    {
     "name": "stdout",
     "output_type": "stream",
     "text": [
      "Error Cuadrático Medio (MSE): 533268884.6863314\n",
      "Raíz del Error Cuadrático Medio (RMSE): 23092.61537128983\n"
     ]
    }
   ],
   "source": [
    "# Realizar predicciones en el conjunto de prueba\n",
    "predictions = model_fit_1.forecast(steps=len(test_1))\n",
    "\n",
    "# Calcular el error cuadrático medio (MSE)\n",
    "mse = mean_squared_error(test_1, predictions)\n",
    "rmse = np.sqrt(mse)\n",
    "\n",
    "print(f'Error Cuadrático Medio (MSE): {mse}')\n",
    "print(f'Raíz del Error Cuadrático Medio (RMSE): {rmse}')"
   ]
  },
  {
   "cell_type": "markdown",
   "metadata": {},
   "source": [
    "INTERPOLACION ARIMA"
   ]
  },
  {
   "cell_type": "markdown",
   "metadata": {},
   "source": [
    "Preparacion de datos"
   ]
  },
  {
   "cell_type": "code",
   "execution_count": 29,
   "metadata": {},
   "outputs": [],
   "source": [
    "# Seleccionar solo la columna de interés (en este caso, el precio de cierre o close)\n",
    "data_2 = df_interpolated_arima['close']"
   ]
  },
  {
   "cell_type": "markdown",
   "metadata": {},
   "source": [
    "División en conjuntos de entrenamiento y prueba"
   ]
  },
  {
   "cell_type": "code",
   "execution_count": 30,
   "metadata": {},
   "outputs": [
    {
     "name": "stdout",
     "output_type": "stream",
     "text": [
      "Tamaño del conjunto de entrenamiento: 12276\n",
      "Tamaño del conjunto de prueba: 3070\n"
     ]
    }
   ],
   "source": [
    "# Dividir en 80% datos de entrenamiento y 20% datos de prueba\n",
    "train_size = int(len(data_2) * 0.8)\n",
    "train_2, test_2 = data_2[:train_size], data_2[train_size:]\n",
    "\n",
    "print(f'Tamaño del conjunto de entrenamiento: {len(train_2)}')\n",
    "print(f'Tamaño del conjunto de prueba: {len(test_2)}')"
   ]
  },
  {
   "cell_type": "markdown",
   "metadata": {},
   "source": [
    "Entrenamiento del modelo ARIMA"
   ]
  },
  {
   "cell_type": "code",
   "execution_count": 31,
   "metadata": {},
   "outputs": [
    {
     "name": "stdout",
     "output_type": "stream",
     "text": [
      "                               SARIMAX Results                                \n",
      "==============================================================================\n",
      "Dep. Variable:                  close   No. Observations:                12276\n",
      "Model:                 ARIMA(5, 1, 0)   Log Likelihood              -91418.741\n",
      "Date:                Tue, 20 Aug 2024   AIC                         182849.481\n",
      "Time:                        17:54:53   BIC                         182893.973\n",
      "Sample:                    08-17-2017   HQIC                        182864.389\n",
      "                         - 03-25-2023                                         \n",
      "Covariance Type:                  opg                                         \n",
      "==============================================================================\n",
      "                 coef    std err          z      P>|z|      [0.025      0.975]\n",
      "------------------------------------------------------------------------------\n",
      "ar.L1         -0.0477      0.004    -11.186      0.000      -0.056      -0.039\n",
      "ar.L2          0.0281      0.004      7.239      0.000       0.020       0.036\n",
      "ar.L3          0.0246      0.004      5.672      0.000       0.016       0.033\n",
      "ar.L4         -0.0034      0.005     -0.717      0.473      -0.013       0.006\n",
      "ar.L5         -0.0118      0.004     -2.735      0.006      -0.020      -0.003\n",
      "sigma2      1.724e+05    681.295    253.064      0.000    1.71e+05    1.74e+05\n",
      "===================================================================================\n",
      "Ljung-Box (L1) (Q):                   0.01   Jarque-Bera (JB):            206820.59\n",
      "Prob(Q):                              0.94   Prob(JB):                         0.00\n",
      "Heteroskedasticity (H):               8.24   Skew:                            -0.46\n",
      "Prob(H) (two-sided):                  0.00   Kurtosis:                        23.09\n",
      "===================================================================================\n",
      "\n",
      "Warnings:\n",
      "[1] Covariance matrix calculated using the outer product of gradients (complex-step).\n"
     ]
    }
   ],
   "source": [
    "# Definir el modelo ARIMA (p=5, d=1, q=0 son parámetros comunes; se pueden ajustar según los datos)\n",
    "model_2 = ARIMA(train_2, order=(5, 1, 0))\n",
    "\n",
    "# Entrenar el modelo\n",
    "model_fit_2 = model_2.fit()\n",
    "print(model_fit_2.summary())"
   ]
  },
  {
   "cell_type": "markdown",
   "metadata": {},
   "source": [
    "Predicción y evaluación"
   ]
  },
  {
   "cell_type": "code",
   "execution_count": 32,
   "metadata": {},
   "outputs": [
    {
     "name": "stdout",
     "output_type": "stream",
     "text": [
      "Error Cuadrático Medio (MSE): 533269289.6411871\n",
      "Raíz del Error Cuadrático Medio (RMSE): 23092.624139347765\n"
     ]
    }
   ],
   "source": [
    "# Realizar predicciones en el conjunto de prueba\n",
    "predictions_1 = model_fit_2.forecast(steps=len(test_2))\n",
    "\n",
    "# Calcular el error cuadrático medio (MSE)\n",
    "mse = mean_squared_error(test_2, predictions_1)\n",
    "rmse = np.sqrt(mse)\n",
    "\n",
    "print(f'Error Cuadrático Medio (MSE): {mse}')\n",
    "print(f'Raíz del Error Cuadrático Medio (RMSE): {rmse}')"
   ]
  },
  {
   "cell_type": "markdown",
   "metadata": {},
   "source": [
    "De acuerdo al tratamiento de datos faltantes del dataframe el que mejor MSE y RMSE arrojo fue la interpolacion Sline:\n",
    "\n",
    "Tratamiento                MSE                RMSE\n",
    "Eliminacion               551143387.4498069   23476.443245300317\n",
    "Interpolacion Spline      525201150.65248257  22917.267521510556\n",
    "Interpolación ARIMA       525201599.6197434   22917.277316900963\n",
    "\n",
    "Tener en cuenta que en aras del taller, la implementación del modelo ARIMA solo se hizo para verificar cual fue el mejor tratamiento de faltantes. Para este caso se toma que el mejor es el tratamiento por interpolación Spline debido a que fue el que obtuvo el MSE y el RMSE mas bajo."
   ]
  },
  {
   "cell_type": "markdown",
   "metadata": {},
   "source": [
    "2. ANALISIS ESTADISTICO Y GRAFICO UNIVARIADO"
   ]
  },
  {
   "cell_type": "code",
   "execution_count": 33,
   "metadata": {},
   "outputs": [
    {
     "name": "stdout",
     "output_type": "stream",
     "text": [
      "Descripción estadística del precio de cierre de BTC:\n",
      "count    15346.000000\n",
      "mean     24404.172092\n",
      "std      19052.175261\n",
      "min       2919.000000\n",
      "25%       8245.907500\n",
      "50%      19024.515000\n",
      "75%      38244.755000\n",
      "max      73349.240000\n",
      "Name: close, dtype: float64\n"
     ]
    }
   ],
   "source": [
    "# Descripción estadística básica\n",
    "descripcion = df_interpolated['close'].describe()\n",
    "print(\"Descripción estadística del precio de cierre de BTC:\")\n",
    "print(descripcion)"
   ]
  },
  {
   "cell_type": "markdown",
   "metadata": {},
   "source": [
    "Tomando como base los registros historicos analizados desde 17/08/2017 hasta 17/07/2024 se puede evidenciar que los datos guardan una media del valor del precio de cierre de 24440.68, reflejando para toda la data historica que los 24000 dolares aproximadamente funcionan como un soporte fuerte para todos aquellos compradores en el mercado, es decir, es una zona donde confluyen altas transacciones de compra y venta."
   ]
  },
  {
   "cell_type": "code",
   "execution_count": 34,
   "metadata": {},
   "outputs": [
    {
     "name": "stdout",
     "output_type": "stream",
     "text": [
      "\n",
      "Mediana: 19024.515\n",
      "Varianza: 362985382.19364226\n",
      "Desviación Estándar: 19052.175261466662\n"
     ]
    }
   ],
   "source": [
    "# Calcular la mediana, varianza y desviación estándar\n",
    "mediana = df_interpolated['close'].median()\n",
    "varianza = df_interpolated['close'].var()\n",
    "desviacion_estandar = df_interpolated['close'].std()\n",
    "print(\"\\nMediana:\", mediana)\n",
    "print(\"Varianza:\", varianza)\n",
    "print(\"Desviación Estándar:\", desviacion_estandar)"
   ]
  },
  {
   "cell_type": "code",
   "execution_count": 35,
   "metadata": {},
   "outputs": [
    {
     "data": {
      "image/png": "[encoded data removed]",
      "text/plain": [
       "<Figure size 1000x600 with 1 Axes>"
      ]
     },
     "metadata": {},
     "output_type": "display_data"
    }
   ],
   "source": [
    "# Histograma\n",
    "plt.figure(figsize=(10, 6))\n",
    "sns.histplot(df_interpolated['close'], bins=50, kde=True, color='blue')\n",
    "plt.title('Distribución del Precio de Cierre de BTC')\n",
    "plt.xlabel('Precio de Cierre')\n",
    "plt.ylabel('Frecuencia')\n",
    "plt.show()"
   ]
  },
  {
   "cell_type": "code",
   "execution_count": 36,
   "metadata": {},
   "outputs": [
    {
     "data": {
      "image/png": "[encoded data removed]",
      "text/plain": [
       "<Figure size 1000x600 with 1 Axes>"
      ]
     },
     "metadata": {},
     "output_type": "display_data"
    }
   ],
   "source": [
    "# Boxplot para detectar posibles valores atípicos\n",
    "plt.figure(figsize=(10, 6))\n",
    "sns.boxplot(x=df_interpolated['close'], color='lightblue')\n",
    "plt.title('Boxplot del Precio de Cierre de BTC')\n",
    "plt.xlabel('Precio de Cierre')\n",
    "plt.show()"
   ]
  },
  {
   "cell_type": "markdown",
   "metadata": {},
   "source": [
    "Los datos de la serie de tiempo indican que la mediana del precio de cierre de BTC vs USDT es de 19051.7, lo que sugiere que la mitad de los valores se sitúan por debajo de este nivel, reflejando una concentración del mercado en torno a este precio, dicho comportamiento tambien se puede evidenciar en la grafica de Distribución del Precio de Cierre de BTC y en la gráfica de cajas Boxplot del Precio de Cierre de BTC. La varianza es bastante alta, con un valor de 363886806.88, lo que indica una gran dispersión de los precios en torno a la media, y esto se ve reflejado en la desviación estándar de 19075.82. Esta alta desviación estándar sugiere que el precio de BTC ha experimentado una considerable volatilidad, con grandes fluctuaciones en su valor a lo largo del tiempo. \n"
   ]
  },
  {
   "cell_type": "code",
   "execution_count": 37,
   "metadata": {},
   "outputs": [
    {
     "data": {
      "image/png": "[encoded data removed]",
      "text/plain": [
       "<Figure size 1200x600 with 1 Axes>"
      ]
     },
     "metadata": {},
     "output_type": "display_data"
    }
   ],
   "source": [
    "# Gráfico de serie temporal del precio de cierre\n",
    "df_interpolated['fecha'] = df_interpolated.index\n",
    "plt.figure(figsize=(12, 6))\n",
    "plt.plot(df_interpolated['fecha'], df_interpolated['close'], color='blue')\n",
    "plt.title('Precio de Cierre de BTC a lo largo del tiempo')\n",
    "plt.xlabel('Fecha')\n",
    "plt.ylabel('Precio de Cierre')\n",
    "plt.grid(True)\n",
    "plt.show()"
   ]
  },
  {
   "cell_type": "markdown",
   "metadata": {},
   "source": [
    "Finalmente en la grafica Precio de Cierre de BTC a lo largo del tiempo, se puede evidenciar una tendencia general alcista, donde los minimos son mas altos y los maximos son mas altos, esto tomando como base la acción del precio. Tambien cabe resaltar que la grafica evidencia periodos de subidas explosivas como de correcciones abruptas, refeljando la alta volatilidad del precio de cierre (close)"
   ]
  },
  {
   "cell_type": "markdown",
   "metadata": {},
   "source": [
    "3. CONCLUSIONES"
   ]
  },
  {
   "cell_type": "markdown",
   "metadata": {},
   "source": [
    "El análisis de los registros históricos desde 17 de agosto de 2017 hasta el 17 de julio de 2024 muestra que el precio de cierre de BTC ha mostrado un soporte sólido en torno a los 24000 USDT, reflejando una alta actividad de compra y venta en esta zona. \n",
    "\n",
    "La mediana de 19051.7 USDT sugiere que la mitad de los precios están por debajo de este nivel, lo que indica una concentración del mercado alrededor de este valor. Sin embargo, la alta varianza y desviación estándar evidencian una significativa volatilidad en los precios. \n",
    "\n",
    "A pesar de esta volatilidad, se observa una tendencia alcista general, con mínimos y máximos ascendentes a lo largo del tiempo, intercalada con periodos de subidas explosivas y correcciones abruptas."
   ]
  }
 ],
 "metadata": {
  "kernelspec": {
   "display_name": "venv",
   "language": "python",
   "name": "python3"
  },
  "language_info": {
   "codemirror_mode": {
    "name": "ipython",
    "version": 3
   },
   "file_extension": ".py",
   "mimetype": "text/x-python",
   "name": "python",
   "nbconvert_exporter": "python",
   "pygments_lexer": "ipython3",
   "version": "3.12.3"
  }
 },
 "nbformat": 4,
 "nbformat_minor": 2
}
