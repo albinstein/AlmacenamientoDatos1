{
  "nbformat": 4,
  "nbformat_minor": 0,
  "metadata": {
    "colab": {
      "provenance": [],
      "authorship_tag": "ABX9TyPDf0FDKDJ70msWLOURLlMJ"
    },
    "kernelspec": {
      "name": "python3",
      "display_name": "Python 3"
    },
    "language_info": {
      "name": "python"
    }
  },
  "cells": [
    {
      "cell_type": "markdown",
      "source": [
        "**Predicción de precio de cierre de BTC vs USD**\n",
        "\n",
        "\n",
        "**Descripción del problema**\n",
        "\n",
        "\n",
        "En el contexto de las finanzas y la inversión en criptomonedas, una de las mayores incertidumbres a la que se enfrenta un inversionista es a la volatilidad del mercado. Bitcoin (BTC), siendo una de las criptomonedas más influyentes, presenta fluctuaciones de precios significativas que pueden tener un impacto considerable en la rentabilidad de las inversiones. Ante este escenario, surge la necesidad de prever el comportamiento futuro del precio de cierre de BTC para periodos específicos.  Por lo tanto, la capacidad de realizar predicciones precisas podría no solo ayudar al inversionista a optimizar sus estrategias de compra y venta, sino también a mitigar riesgos financieros.\n",
        "\n",
        "**Justificación para el uso de ciencia de datos e IA**\n",
        "\n",
        "La predicción de precios en mercados financieros, como el de las criptomonedas, es un problema que se puede abordar con ciencia de datos e inteligencia artificial debido a la complejidad de estos mercados, donde influyen factores como patrones históricos, sentimiento del mercado y eventos macroeconómicos. Los modelos como los de aprendizaje automático y aprendizaje profundo pueden ser usados para analizar grandes volúmenes de datos que para el caso de este tipo de mercado estamos hablando de temporalidades hasta de milisegundos, donde se podría identificar patrones ocultos y generar predicciones basadas en estos patrones.\n",
        "\n",
        "**Tipos de datos necesarios:**\n",
        "\n",
        "•\tHistorial de precios de BTC: Datos históricos detallados de precios, incluyendo apertura, cierre, máximos, mínimos y volumen de transacciones diarias.\n",
        "\n",
        "•\tIndicadores técnicos: Datos derivados del análisis técnico, como medias móviles, índice de fuerza relativa (RSI), bandas de Bollinger, entre otros, que proporcionan una perspectiva adicional sobre las tendencias del mercado.\n",
        "\n",
        "•\tSentimiento del mercado: Información cualitativa y cuantitativa derivada del análisis de noticias, redes sociales y menciones públicas, que puede influir en la percepción y comportamiento de los inversores.\n",
        "\n",
        "•\tFactores macroeconómicos: Indicadores globales como tasas de interés, inflación, movimientos en el mercado de valores y políticas económicas que pueden tener un impacto indirecto en el valor de BTC.\n",
        "\n",
        "•\tDatos on-chain: Información específica de la blockchain de Bitcoin, como flujos de entrada y salida en exchanges, que ofrece un vistazo directo a la actividad en la red de Bitcoin.\n",
        "\n",
        "**Tipo de problema:**\n",
        "\n",
        "Este es un problema de predicción de series de tiempo, específicamente una tarea de regresión, donde el objetivo es prever un valor continuo, en este caso, el precio de cierre de BTC.\n"
      ],
      "metadata": {
        "id": "8Ft4SDF7eqpm"
      }
    },
    {
      "cell_type": "code",
      "source": [],
      "metadata": {
        "id": "jaFyIbhSex1a"
      },
      "execution_count": null,
      "outputs": []
    }
  ]
}